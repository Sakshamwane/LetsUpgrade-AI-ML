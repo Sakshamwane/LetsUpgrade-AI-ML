{
 "cells": [
  {
   "cell_type": "markdown",
   "metadata": {},
   "source": [
    "# Assignment Day 5 | 10th July 2020"
   ]
  },
  {
   "cell_type": "markdown",
   "metadata": {},
   "source": [
    "__Question 1 :__\n",
    "Write a Python program to find the first 20 non-even prime natural numbers.\n"
   ]
  },
  {
   "cell_type": "code",
   "execution_count": 5,
   "metadata": {},
   "outputs": [
    {
     "name": "stdout",
     "output_type": "stream",
     "text": [
      "3\n",
      "5\n",
      "7\n",
      "11\n",
      "13\n",
      "17\n",
      "19\n",
      "23\n",
      "29\n",
      "31\n",
      "37\n",
      "41\n",
      "43\n",
      "47\n",
      "53\n",
      "59\n",
      "61\n",
      "67\n",
      "71\n",
      "73\n"
     ]
    }
   ],
   "source": [
    "for i in range(3,75):\n",
    "    for j in range(2,i):\n",
    "        if (i%j)==0:\n",
    "            break\n",
    "    else:\n",
    "            print(i)\n",
    "    "
   ]
  },
  {
   "cell_type": "markdown",
   "metadata": {},
   "source": [
    "__Question 2 :__\n",
    "Write a Python program to implement 15 functions of string."
   ]
  },
  {
   "cell_type": "code",
   "execution_count": 36,
   "metadata": {},
   "outputs": [
    {
     "name": "stdout",
     "output_type": "stream",
     "text": [
      "Hey there, my name is saksham\n",
      "False\n",
      "False\n",
      "Hey There, My Name Is Saksham\n",
      "HEY THERE, MY NAME IS SAKSHAM\n",
      "hey there, my name is saksham\n",
      "HEY THERE, MY NAME IS SAKSHAM\n",
      "False\n",
      "False\n",
      "False\n",
      "hey there, my name is saksham\n",
      "[' ', ' ', ' ', ' ', ' ', ',', 'a', 'a', 'a', 'e', 'e', 'e', 'e', 'h', 'h', 'h', 'i', 'k', 'm', 'm', 'm', 'n', 'r', 's', 's', 's', 't', 'y', 'y']\n"
     ]
    }
   ],
   "source": [
    "string = 'hey there, my name is saksham'\n",
    "\n",
    "print(string.capitalize())\n",
    "print(string.isalpha())\n",
    "print(string.isdigit())\n",
    "print(string.title())\n",
    "print(string.upper())\n",
    "print(string.zfill(1))\n",
    "print(string.swapcase())\n",
    "print(string.isspace())\n",
    "print(string.istitle())\n",
    "print(string.isupper())\n",
    "print(string.lower())\n",
    "print(sorted(string))"
   ]
  },
  {
   "cell_type": "markdown",
   "metadata": {},
   "source": [
    "__Question 3:__\n",
    "Write a Python program to check if the given string is a Palindrome or Anagram or None of them. Display the message accordingly to the user."
   ]
  },
  {
   "cell_type": "code",
   "execution_count": 15,
   "metadata": {},
   "outputs": [
    {
     "name": "stdout",
     "output_type": "stream",
     "text": [
      "Enter a stringsilent\n",
      "enter another stringlisten\n",
      "Given string are anagram\n"
     ]
    }
   ],
   "source": [
    "s1 = input('Enter a string')\n",
    "\n",
    "if s1 == s1[::-1]:\n",
    "    print('Given string is a palindrome')\n",
    "    \n",
    "else:\n",
    "    s2 = input('enter another string')\n",
    "    if sorted(s1) == sorted(s2):\n",
    "        print('Given string are anagram')\n",
    "    else:\n",
    "        print('None of them')\n",
    "\n"
   ]
  },
  {
   "cell_type": "markdown",
   "metadata": {},
   "source": [
    "__Question 4:__\n",
    "Write a Python's user defined function that removes all the additional characters from the string and converts it finally to lower case using built-in lower(). eg: If the string is \"Dr. Darshan Ingle @AI-ML Trainer\", then the output be \"drdarshaningleaimltrainer\"."
   ]
  },
  {
   "cell_type": "code",
   "execution_count": 15,
   "metadata": {},
   "outputs": [
    {
     "name": "stdout",
     "output_type": "stream",
     "text": [
      "Enter a stringDr. Darshan Ingle @AI-ML Trainer\n",
      "Formatted string dr.darshaningleaimltrainer\n"
     ]
    }
   ],
   "source": [
    "def converter(y):\n",
    "    special_char = ['!', '@', '#', '$', '%', '^', '&', '*', ')', '(', '-', '_', ' ']\n",
    "    for i in special_char:\n",
    "        if i in y:\n",
    "            y = y.replace(i, '')\n",
    "            y = y.lower()\n",
    "    print('Formatted string', y)\n",
    "\n",
    "c = input('Enter a string')\n",
    "converter(c)\n",
    "  \n",
    "    \n"
   ]
  },
  {
   "cell_type": "code",
   "execution_count": null,
   "metadata": {},
   "outputs": [],
   "source": []
  }
 ],
 "metadata": {
  "kernelspec": {
   "display_name": "Python 3",
   "language": "python",
   "name": "python3"
  },
  "language_info": {
   "codemirror_mode": {
    "name": "ipython",
    "version": 3
   },
   "file_extension": ".py",
   "mimetype": "text/x-python",
   "name": "python",
   "nbconvert_exporter": "python",
   "pygments_lexer": "ipython3",
   "version": "3.7.6"
  }
 },
 "nbformat": 4,
 "nbformat_minor": 4
}
