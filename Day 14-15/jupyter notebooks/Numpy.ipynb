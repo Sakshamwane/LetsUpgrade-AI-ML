{
 "cells": [
  {
   "cell_type": "markdown",
   "metadata": {},
   "source": [
    "# Combining Arrays"
   ]
  },
  {
   "cell_type": "code",
   "execution_count": 9,
   "metadata": {},
   "outputs": [
    {
     "name": "stdout",
     "output_type": "stream",
     "text": [
      "[1 2 3]\n",
      "[4 5 6 7]\n"
     ]
    }
   ],
   "source": [
    "#import numpy as np\n",
    "\n",
    "# create array with vstack\n",
    "from numpy import array\n",
    "from numpy import vstack,hstack\n",
    "# create first array\n",
    "a1 = array([1,2,3])\n",
    "#print(a1)\n",
    "# create second array\n",
    "a2 = array([4,5,6,7])\n",
    "#print(a2)\n",
    "# vertical stack\n",
    "print(a1)\n",
    "print(a2)\n"
   ]
  },
  {
   "cell_type": "code",
   "execution_count": 10,
   "metadata": {},
   "outputs": [
    {
     "ename": "ValueError",
     "evalue": "all the input array dimensions except for the concatenation axis must match exactly",
     "output_type": "error",
     "traceback": [
      "\u001b[1;31m---------------------------------------------------------------------------\u001b[0m",
      "\u001b[1;31mValueError\u001b[0m                                Traceback (most recent call last)",
      "\u001b[1;32m<ipython-input-10-7bf113d02df2>\u001b[0m in \u001b[0;36m<module>\u001b[1;34m\u001b[0m\n\u001b[1;32m----> 1\u001b[1;33m \u001b[0ma3\u001b[0m\u001b[1;33m=\u001b[0m\u001b[0mvstack\u001b[0m\u001b[1;33m(\u001b[0m\u001b[1;33m(\u001b[0m\u001b[0ma1\u001b[0m\u001b[1;33m,\u001b[0m\u001b[0ma2\u001b[0m\u001b[1;33m)\u001b[0m\u001b[1;33m)\u001b[0m\u001b[1;33m\u001b[0m\u001b[1;33m\u001b[0m\u001b[0m\n\u001b[0m\u001b[0;32m      2\u001b[0m \u001b[0mprint\u001b[0m\u001b[1;33m(\u001b[0m\u001b[0ma3\u001b[0m\u001b[1;33m)\u001b[0m\u001b[1;33m\u001b[0m\u001b[1;33m\u001b[0m\u001b[0m\n\u001b[0;32m      3\u001b[0m \u001b[0mprint\u001b[0m\u001b[1;33m(\u001b[0m\u001b[0ma3\u001b[0m\u001b[1;33m.\u001b[0m\u001b[0mshape\u001b[0m\u001b[1;33m)\u001b[0m\u001b[1;33m\u001b[0m\u001b[1;33m\u001b[0m\u001b[0m\n",
      "\u001b[1;32m~\\Anaconda3\\lib\\site-packages\\numpy\\core\\shape_base.py\u001b[0m in \u001b[0;36mvstack\u001b[1;34m(tup)\u001b[0m\n\u001b[0;32m    281\u001b[0m     \"\"\"\n\u001b[0;32m    282\u001b[0m     \u001b[0m_warn_for_nonsequence\u001b[0m\u001b[1;33m(\u001b[0m\u001b[0mtup\u001b[0m\u001b[1;33m)\u001b[0m\u001b[1;33m\u001b[0m\u001b[1;33m\u001b[0m\u001b[0m\n\u001b[1;32m--> 283\u001b[1;33m     \u001b[1;32mreturn\u001b[0m \u001b[0m_nx\u001b[0m\u001b[1;33m.\u001b[0m\u001b[0mconcatenate\u001b[0m\u001b[1;33m(\u001b[0m\u001b[1;33m[\u001b[0m\u001b[0matleast_2d\u001b[0m\u001b[1;33m(\u001b[0m\u001b[0m_m\u001b[0m\u001b[1;33m)\u001b[0m \u001b[1;32mfor\u001b[0m \u001b[0m_m\u001b[0m \u001b[1;32min\u001b[0m \u001b[0mtup\u001b[0m\u001b[1;33m]\u001b[0m\u001b[1;33m,\u001b[0m \u001b[1;36m0\u001b[0m\u001b[1;33m)\u001b[0m\u001b[1;33m\u001b[0m\u001b[1;33m\u001b[0m\u001b[0m\n\u001b[0m\u001b[0;32m    284\u001b[0m \u001b[1;33m\u001b[0m\u001b[0m\n\u001b[0;32m    285\u001b[0m \u001b[1;33m\u001b[0m\u001b[0m\n",
      "\u001b[1;31mValueError\u001b[0m: all the input array dimensions except for the concatenation axis must match exactly"
     ]
    }
   ],
   "source": [
    "a3=vstack((a1,a2))\n",
    "print(a3)\n",
    "print(a3.shape)"
   ]
  },
  {
   "cell_type": "markdown",
   "metadata": {},
   "source": [
    "# Horizontal Stack"
   ]
  },
  {
   "cell_type": "code",
   "execution_count": 14,
   "metadata": {},
   "outputs": [
    {
     "name": "stdout",
     "output_type": "stream",
     "text": [
      "[1 2 3 4 5 6 5 6 7 7]\n",
      "(10,)\n",
      "int32\n"
     ]
    }
   ],
   "source": [
    "# create array with hstack\n",
    "from numpy import array\n",
    "from numpy import hstack\n",
    "# create first array\n",
    "a1 = array([1,2,3])\n",
    "#print(a1)\n",
    "# create second array\n",
    "a2 = array([4,5,6,5,6,7,7])\n",
    "#print(a2)\n",
    "# create horizontal stack\n",
    "a3 = hstack((a1, a2))\n",
    "print(a3)\n",
    "print(a3.shape)\n",
    "print(a3.dtype)"
   ]
  },
  {
   "cell_type": "code",
   "execution_count": 18,
   "metadata": {},
   "outputs": [],
   "source": [
    "a1 = array([[1,2,3],[4,5,6]])\n",
    "a2 = array([[11,22,33],[44,55,66]])"
   ]
  },
  {
   "cell_type": "code",
   "execution_count": 20,
   "metadata": {},
   "outputs": [
    {
     "data": {
      "text/plain": [
       "(2, 3)"
      ]
     },
     "execution_count": 20,
     "metadata": {},
     "output_type": "execute_result"
    }
   ],
   "source": [
    "a1.shape"
   ]
  },
  {
   "cell_type": "code",
   "execution_count": 21,
   "metadata": {},
   "outputs": [
    {
     "data": {
      "text/plain": [
       "(2, 3)"
      ]
     },
     "execution_count": 21,
     "metadata": {},
     "output_type": "execute_result"
    }
   ],
   "source": [
    "a2.shape"
   ]
  },
  {
   "cell_type": "code",
   "execution_count": 22,
   "metadata": {},
   "outputs": [
    {
     "data": {
      "text/plain": [
       "array([[ 1,  2,  3, 11, 22, 33],\n",
       "       [ 4,  5,  6, 44, 55, 66]])"
      ]
     },
     "execution_count": 22,
     "metadata": {},
     "output_type": "execute_result"
    }
   ],
   "source": [
    "hstack((a1,a2))"
   ]
  },
  {
   "cell_type": "code",
   "execution_count": 23,
   "metadata": {},
   "outputs": [
    {
     "data": {
      "text/plain": [
       "array([[ 1,  2,  3],\n",
       "       [ 4,  5,  6],\n",
       "       [11, 22, 33],\n",
       "       [44, 55, 66]])"
      ]
     },
     "execution_count": 23,
     "metadata": {},
     "output_type": "execute_result"
    }
   ],
   "source": [
    "vstack((a1,a2))"
   ]
  },
  {
   "cell_type": "code",
   "execution_count": 25,
   "metadata": {},
   "outputs": [
    {
     "data": {
      "text/plain": [
       "array([[1, 2, 3],\n",
       "       [list([4, 5, 6, 7]), list([7, 8, 9]), list([10, 11, 22])]],\n",
       "      dtype=object)"
      ]
     },
     "execution_count": 25,
     "metadata": {},
     "output_type": "execute_result"
    }
   ],
   "source": [
    "a1 = array([1,2,3])\n",
    "a2 = array([[4,5,6,7],[7,8,9],[10,11,22]])\n",
    "vstack((a1,a2))"
   ]
  },
  {
   "cell_type": "code",
   "execution_count": 26,
   "metadata": {},
   "outputs": [
    {
     "data": {
      "text/plain": [
       "3"
      ]
     },
     "execution_count": 26,
     "metadata": {},
     "output_type": "execute_result"
    }
   ],
   "source": [
    "a1[2]"
   ]
  },
  {
   "cell_type": "markdown",
   "metadata": {},
   "source": [
    "# Index, Slice and Reshape NumPy\n",
    "Arrays"
   ]
  },
  {
   "cell_type": "markdown",
   "metadata": {},
   "source": [
    "1. From List to Arrays\n",
    "2. Array Indexing\n",
    "3. Array Slicing\n",
    "4. Array Reshaping"
   ]
  },
  {
   "cell_type": "code",
   "execution_count": 16,
   "metadata": {},
   "outputs": [],
   "source": [
    "#From List to Arrays\n",
    "#One-Dimensional List to Array\n",
    "#Two-Dimensional List of Lists to Array"
   ]
  },
  {
   "cell_type": "markdown",
   "metadata": {},
   "source": [
    "# One-Dimensional List to Array"
   ]
  },
  {
   "cell_type": "code",
   "execution_count": 6,
   "metadata": {},
   "outputs": [
    {
     "name": "stdout",
     "output_type": "stream",
     "text": [
      "[11 22 33 44 55]\n",
      "<class 'numpy.ndarray'>\n",
      "(5,)\n"
     ]
    }
   ],
   "source": [
    "# create one-dimensional array\n",
    "from numpy import array\n",
    "# list of data\n",
    "data = [11, 22, 33, 44, 55]\n",
    "# array of data\n",
    "data = array(data)\n",
    "print(data)\n",
    "print(type(data))\n",
    "data.dtype\n",
    "print(data.shape)"
   ]
  },
  {
   "cell_type": "code",
   "execution_count": 7,
   "metadata": {},
   "outputs": [
    {
     "data": {
      "text/plain": [
       "dtype('int64')"
      ]
     },
     "execution_count": 7,
     "metadata": {},
     "output_type": "execute_result"
    }
   ],
   "source": [
    "data.dtype"
   ]
  },
  {
   "cell_type": "markdown",
   "metadata": {},
   "source": [
    "# one-Dimensional List of Lists to nd-Array"
   ]
  },
  {
   "cell_type": "code",
   "execution_count": 8,
   "metadata": {},
   "outputs": [
    {
     "name": "stdout",
     "output_type": "stream",
     "text": [
      "[[11, 22], [33, 44], [55, 66], [77, 88]]\n",
      "[[11 22]\n",
      " [33 44]\n",
      " [55 66]\n",
      " [77 88]]\n",
      "<class 'numpy.ndarray'>\n",
      "(4, 2)\n",
      "[[11]\n",
      " [33]]\n"
     ]
    }
   ],
   "source": [
    "# create two-dimensional array\n",
    "from numpy import array\n",
    "# list of data\n",
    "data = [[11, 22],[33, 44],[55, 66],[77,88]]\n",
    "# array of data\n",
    "print(data)\n",
    "data = array(data)\n",
    "print(data)\n",
    "print(type(data))\n",
    "print(data.shape)\n",
    "\n",
    "print(data[:2,:1])"
   ]
  },
  {
   "cell_type": "markdown",
   "metadata": {},
   "source": [
    "# Array Indexing"
   ]
  },
  {
   "cell_type": "markdown",
   "metadata": {},
   "source": [
    "# One-Dimensional Indexing"
   ]
  },
  {
   "cell_type": "code",
   "execution_count": 9,
   "metadata": {},
   "outputs": [
    {
     "name": "stdout",
     "output_type": "stream",
     "text": [
      "11\n",
      "55\n"
     ]
    }
   ],
   "source": [
    "# index a one-dimensional array\n",
    "from numpy import array\n",
    "# define array\n",
    "data = array([11, 22, 33, 44, 55])\n",
    "# index data\n",
    "print(data[0])\n",
    "print(data[4])"
   ]
  },
  {
   "cell_type": "code",
   "execution_count": 10,
   "metadata": {},
   "outputs": [
    {
     "name": "stdout",
     "output_type": "stream",
     "text": [
      "55\n"
     ]
    }
   ],
   "source": [
    "# index array out of bounds\n",
    "from numpy import array\n",
    "# define array\n",
    "data = array([11, 22, 33, 44, 55])\n",
    "# index data\n",
    "print(data[4])"
   ]
  },
  {
   "cell_type": "code",
   "execution_count": 11,
   "metadata": {},
   "outputs": [
    {
     "name": "stdout",
     "output_type": "stream",
     "text": [
      "55\n",
      "11\n"
     ]
    }
   ],
   "source": [
    "# negative array indexing\n",
    "from numpy import array\n",
    "# define array\n",
    "data = array([11, 22, 33, 44, 55])\n",
    "# index data\n",
    "print(data[-1])\n",
    "print(data[-5])"
   ]
  },
  {
   "cell_type": "markdown",
   "metadata": {},
   "source": [
    "# Two-Dimensional Indexing"
   ]
  },
  {
   "cell_type": "code",
   "execution_count": 12,
   "metadata": {},
   "outputs": [
    {
     "name": "stdout",
     "output_type": "stream",
     "text": [
      "66\n"
     ]
    }
   ],
   "source": [
    "# index two-dimensional array\n",
    "from numpy import array\n",
    "# define array\n",
    "data = array([\n",
    "[11, 22],\n",
    "[33, 44],\n",
    "[55, 66]])\n",
    "# index data\n",
    "print(data[2,1])"
   ]
  },
  {
   "cell_type": "code",
   "execution_count": 13,
   "metadata": {},
   "outputs": [
    {
     "name": "stdout",
     "output_type": "stream",
     "text": [
      "44\n"
     ]
    }
   ],
   "source": [
    "# index row of two-dimensional array\n",
    "from numpy import array\n",
    "# define array\n",
    "data = array([\n",
    "[11, 22],\n",
    "[33, 44],\n",
    "[55, 66]])\n",
    "# index data\n",
    "print(data[1,1])"
   ]
  },
  {
   "cell_type": "markdown",
   "metadata": {},
   "source": [
    "# Array Slicing"
   ]
  },
  {
   "cell_type": "markdown",
   "metadata": {},
   "source": [
    "# One-Dimensional Slicing"
   ]
  },
  {
   "cell_type": "code",
   "execution_count": 14,
   "metadata": {},
   "outputs": [
    {
     "name": "stdout",
     "output_type": "stream",
     "text": [
      "[11 22 33 44 55]\n"
     ]
    }
   ],
   "source": [
    "# slice a one-dimensional array\n",
    "from numpy import array\n",
    "# define array\n",
    "data = array([11, 22, 33, 44, 55])\n",
    "print(data[:])"
   ]
  },
  {
   "cell_type": "code",
   "execution_count": 15,
   "metadata": {},
   "outputs": [
    {
     "name": "stdout",
     "output_type": "stream",
     "text": [
      "[11]\n"
     ]
    }
   ],
   "source": [
    "# slice a subset of a one-dimensional array\n",
    "from numpy import array\n",
    "# define array\n",
    "data = array([11, 22, 33, 44, 55])\n",
    "print(data[0:1])"
   ]
  },
  {
   "cell_type": "code",
   "execution_count": 16,
   "metadata": {},
   "outputs": [
    {
     "name": "stdout",
     "output_type": "stream",
     "text": [
      "[44 55]\n"
     ]
    }
   ],
   "source": [
    "# negative slicing of a one-dimensional array\n",
    "from numpy import array\n",
    "# define array\n",
    "data = array([11, 22, 33, 44, 55])\n",
    "print(data[-2:])"
   ]
  },
  {
   "cell_type": "markdown",
   "metadata": {},
   "source": [
    "# Two-Dimensional Slicing"
   ]
  },
  {
   "cell_type": "code",
   "execution_count": 17,
   "metadata": {},
   "outputs": [
    {
     "name": "stdout",
     "output_type": "stream",
     "text": [
      "[[11 22]\n",
      " [44 55]\n",
      " [77 88]]\n",
      "[33 66 99]\n",
      "(3,)\n",
      "(3, 2)\n"
     ]
    }
   ],
   "source": [
    "# split input and output data\n",
    "from numpy import array\n",
    "# define array\n",
    "data = array([\n",
    "[11, 22, 33],\n",
    "[44, 55, 66],\n",
    "[77, 88, 99]])\n",
    "# separate data\n",
    "X, y = data[:, :-1], data[:, -1]\n",
    "print(X)\n",
    "print(y)\n",
    "print(y.shape)\n",
    "print(X.shape)"
   ]
  },
  {
   "cell_type": "markdown",
   "metadata": {},
   "source": [
    "# Split Train and Test Rows"
   ]
  },
  {
   "cell_type": "code",
   "execution_count": 19,
   "metadata": {},
   "outputs": [
    {
     "name": "stdout",
     "output_type": "stream",
     "text": [
      "[[11 22 33]\n",
      " [44 55 66]]\n",
      "[[77 88 99]]\n"
     ]
    }
   ],
   "source": [
    "# split train and test data\n",
    "from numpy import array\n",
    "# define array\n",
    "data = array([\n",
    "[11, 22, 33],\n",
    "[44, 55, 66],\n",
    "[77, 88, 99]])\n",
    "# separate data\n",
    "split = 2\n",
    "train,test = data[:2,:],data[split:,:]\n",
    "print(train)\n",
    "print(test)"
   ]
  },
  {
   "cell_type": "markdown",
   "metadata": {},
   "source": [
    "# Array Reshaping"
   ]
  },
  {
   "cell_type": "markdown",
   "metadata": {},
   "source": [
    "# Data Shape"
   ]
  },
  {
   "cell_type": "code",
   "execution_count": 29,
   "metadata": {},
   "outputs": [
    {
     "name": "stdout",
     "output_type": "stream",
     "text": [
      "(5,)\n"
     ]
    }
   ],
   "source": [
    "# shape of one-dimensional array\n",
    "from numpy import array\n",
    "# define array\n",
    "data = array([11, 22, 33, 44, 55])\n",
    "print(data.shape)\n",
    "# shape of one-dimensional array"
   ]
  },
  {
   "cell_type": "code",
   "execution_count": 31,
   "metadata": {},
   "outputs": [
    {
     "ename": "IndexError",
     "evalue": "tuple index out of range",
     "output_type": "error",
     "traceback": [
      "\u001b[1;31m---------------------------------------------------------------------------\u001b[0m",
      "\u001b[1;31mIndexError\u001b[0m                                Traceback (most recent call last)",
      "\u001b[1;32m<ipython-input-31-2142f607f327>\u001b[0m in \u001b[0;36m<module>\u001b[1;34m\u001b[0m\n\u001b[1;32m----> 1\u001b[1;33m \u001b[0mdata\u001b[0m\u001b[1;33m.\u001b[0m\u001b[0mshape\u001b[0m\u001b[1;33m[\u001b[0m\u001b[1;36m1\u001b[0m\u001b[1;33m]\u001b[0m\u001b[1;33m\u001b[0m\u001b[1;33m\u001b[0m\u001b[0m\n\u001b[0m",
      "\u001b[1;31mIndexError\u001b[0m: tuple index out of range"
     ]
    }
   ],
   "source": [
    "data.shape[1]"
   ]
  },
  {
   "cell_type": "code",
   "execution_count": 34,
   "metadata": {},
   "outputs": [
    {
     "name": "stdout",
     "output_type": "stream",
     "text": [
      "[[11 22]\n",
      " [33 44]\n",
      " [55 66]]\n"
     ]
    }
   ],
   "source": [
    "# shape of a two-dimensional array\n",
    "from numpy import array\n",
    "# list of data\n",
    "data = [[11, 22],\n",
    "[33, 44],\n",
    "[55, 66]]\n",
    "# array of data\n",
    "data = array(data)\n",
    "print(data)"
   ]
  },
  {
   "cell_type": "code",
   "execution_count": 33,
   "metadata": {},
   "outputs": [
    {
     "data": {
      "text/plain": [
       "3"
      ]
     },
     "execution_count": 33,
     "metadata": {},
     "output_type": "execute_result"
    }
   ],
   "source": [
    "data.shape[0]"
   ]
  },
  {
   "cell_type": "code",
   "execution_count": 35,
   "metadata": {},
   "outputs": [
    {
     "data": {
      "text/plain": [
       "2"
      ]
     },
     "execution_count": 35,
     "metadata": {},
     "output_type": "execute_result"
    }
   ],
   "source": [
    "data.shape[1]"
   ]
  },
  {
   "cell_type": "code",
   "execution_count": 36,
   "metadata": {},
   "outputs": [
    {
     "ename": "IndexError",
     "evalue": "tuple index out of range",
     "output_type": "error",
     "traceback": [
      "\u001b[1;31m---------------------------------------------------------------------------\u001b[0m",
      "\u001b[1;31mIndexError\u001b[0m                                Traceback (most recent call last)",
      "\u001b[1;32m<ipython-input-36-7bbc1b12257e>\u001b[0m in \u001b[0;36m<module>\u001b[1;34m\u001b[0m\n\u001b[1;32m----> 1\u001b[1;33m \u001b[0mdata\u001b[0m\u001b[1;33m.\u001b[0m\u001b[0mshape\u001b[0m\u001b[1;33m[\u001b[0m\u001b[1;36m2\u001b[0m\u001b[1;33m]\u001b[0m\u001b[1;33m\u001b[0m\u001b[1;33m\u001b[0m\u001b[0m\n\u001b[0m",
      "\u001b[1;31mIndexError\u001b[0m: tuple index out of range"
     ]
    }
   ],
   "source": [
    "data.shape[2]"
   ]
  },
  {
   "cell_type": "code",
   "execution_count": 10,
   "metadata": {},
   "outputs": [
    {
     "name": "stdout",
     "output_type": "stream",
     "text": [
      " Rows:   3\n",
      " Cols:   2\n"
     ]
    },
    {
     "data": {
      "text/plain": [
       "(3, 2)"
      ]
     },
     "execution_count": 10,
     "metadata": {},
     "output_type": "execute_result"
    }
   ],
   "source": [
    "# row and column shape of two-dimensional array\n",
    "from numpy import array\n",
    "# list of data\n",
    "data = [[11, 22],[33, 44],[55, 66]]\n",
    "# array of data\n",
    "data = array(data)\n",
    "print( ' Rows:  ' , data.shape[0])\n",
    "print( ' Cols:  ', data.shape[1])\n",
    "data.shape"
   ]
  },
  {
   "cell_type": "markdown",
   "metadata": {},
   "source": [
    "# Reshape 1D to 2D Array"
   ]
  },
  {
   "cell_type": "code",
   "execution_count": 15,
   "metadata": {},
   "outputs": [
    {
     "name": "stdout",
     "output_type": "stream",
     "text": [
      "(5,)\n",
      "[11 22 33 44 55]\n",
      "(5, 1)\n",
      "[[11]\n",
      " [22]\n",
      " [33]\n",
      " [44]\n",
      " [55]]\n"
     ]
    }
   ],
   "source": [
    "# reshape 1D array to 2D\n",
    "from numpy import array\n",
    "# define array\n",
    "data = array([11, 22, 33, 44, 55])\n",
    "print(data.shape)\n",
    "print(data)\n",
    "# reshape\n",
    "data1 = data.reshape((data.shape[0],1))\n",
    "print(data1.shape)\n",
    "print(data1)"
   ]
  },
  {
   "cell_type": "code",
   "execution_count": 37,
   "metadata": {},
   "outputs": [
    {
     "name": "stdout",
     "output_type": "stream",
     "text": [
      "[11 22 33 44 55]\n",
      "(5,)\n"
     ]
    }
   ],
   "source": [
    "data = array([11, 22, 33, 44, 55])\n",
    "print(data)\n",
    "print(data.shape)"
   ]
  },
  {
   "cell_type": "code",
   "execution_count": 38,
   "metadata": {},
   "outputs": [
    {
     "name": "stdout",
     "output_type": "stream",
     "text": [
      "[[11]\n",
      " [22]\n",
      " [33]\n",
      " [44]\n",
      " [55]]\n"
     ]
    }
   ],
   "source": [
    "data1=data.reshape(data.shape[0],1)\n",
    "print(data1)"
   ]
  },
  {
   "cell_type": "code",
   "execution_count": 39,
   "metadata": {},
   "outputs": [
    {
     "data": {
      "text/plain": [
       "(5, 1)"
      ]
     },
     "execution_count": 39,
     "metadata": {},
     "output_type": "execute_result"
    }
   ],
   "source": [
    "data1.shape"
   ]
  },
  {
   "cell_type": "code",
   "execution_count": 42,
   "metadata": {},
   "outputs": [
    {
     "name": "stdout",
     "output_type": "stream",
     "text": [
      "[[[11]]\n",
      "\n",
      " [[22]]\n",
      "\n",
      " [[33]]\n",
      "\n",
      " [[44]]\n",
      "\n",
      " [[55]]]\n"
     ]
    }
   ],
   "source": [
    "data2=data1.reshape((data1.shape[0],data1.shape[1],1))\n",
    "print(data2)"
   ]
  },
  {
   "cell_type": "code",
   "execution_count": 43,
   "metadata": {},
   "outputs": [
    {
     "data": {
      "text/plain": [
       "(5, 1, 1)"
      ]
     },
     "execution_count": 43,
     "metadata": {},
     "output_type": "execute_result"
    }
   ],
   "source": [
    "data2.shape"
   ]
  },
  {
   "cell_type": "markdown",
   "metadata": {},
   "source": [
    "# Reshape 2D to 3D Array"
   ]
  },
  {
   "cell_type": "code",
   "execution_count": 18,
   "metadata": {},
   "outputs": [
    {
     "name": "stdout",
     "output_type": "stream",
     "text": [
      "[[11, 22], [33, 44], [55, 66]]\n",
      "[[11 22]\n",
      " [33 44]\n",
      " [55 66]]\n",
      "(3, 2)\n",
      "(3, 2, 1)\n",
      "[[[11]\n",
      "  [22]]\n",
      "\n",
      " [[33]\n",
      "  [44]]\n",
      "\n",
      " [[55]\n",
      "  [66]]]\n"
     ]
    }
   ],
   "source": [
    "# reshape 2D array to 3D\n",
    "from numpy import array\n",
    "# list of data\n",
    "data = [[11, 22],[33, 44],[55, 66]]\n",
    "print(data)\n",
    "# array of data\n",
    "data = array(data)\n",
    "print(data)\n",
    "print(data.shape)\n",
    "# reshape\n",
    "data = data.reshape((data.shape[0], data.shape[1],1))\n",
    "print(data.shape)\n",
    "print(data)"
   ]
  },
  {
   "cell_type": "code",
   "execution_count": null,
   "metadata": {},
   "outputs": [],
   "source": []
  },
  {
   "cell_type": "code",
   "execution_count": null,
   "metadata": {},
   "outputs": [],
   "source": []
  }
 ],
 "metadata": {
  "kernelspec": {
   "display_name": "Python 3",
   "language": "python",
   "name": "python3"
  },
  "language_info": {
   "codemirror_mode": {
    "name": "ipython",
    "version": 3
   },
   "file_extension": ".py",
   "mimetype": "text/x-python",
   "name": "python",
   "nbconvert_exporter": "python",
   "pygments_lexer": "ipython3",
   "version": "3.7.4"
  }
 },
 "nbformat": 4,
 "nbformat_minor": 2
}
