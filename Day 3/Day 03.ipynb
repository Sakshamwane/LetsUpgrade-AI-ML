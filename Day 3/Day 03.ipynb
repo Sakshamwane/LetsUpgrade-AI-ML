{
 "cells": [
  {
   "cell_type": "markdown",
   "metadata": {},
   "source": [
    "# Assignment Day 3 | 8th July 2020"
   ]
  },
  {
   "cell_type": "markdown",
   "metadata": {},
   "source": [
    "__Question 1 :__\n",
    "Write a program to subtract two complex numbers in Python."
   ]
  },
  {
   "cell_type": "code",
   "execution_count": 8,
   "metadata": {},
   "outputs": [
    {
     "name": "stdout",
     "output_type": "stream",
     "text": [
      "Enter first complex number2+4j\n",
      "Enter second complex number1+3j\n",
      "(1+1j)\n"
     ]
    }
   ],
   "source": [
    "a = complex(input('Enter first complex number'))\n",
    "b = complex(input('Enter second complex number'))\n",
    "print(a-b)"
   ]
  },
  {
   "cell_type": "markdown",
   "metadata": {},
   "source": [
    "__Question 2 :__\n",
    "Write a program to find the fourth root of a number."
   ]
  },
  {
   "cell_type": "code",
   "execution_count": 9,
   "metadata": {},
   "outputs": [
    {
     "name": "stdout",
     "output_type": "stream",
     "text": [
      "Enter a number16\n",
      "2.0\n"
     ]
    }
   ],
   "source": [
    "c = int(input('Enter a number'))\n",
    "print(c**(1/float(4)))"
   ]
  },
  {
   "cell_type": "markdown",
   "metadata": {},
   "source": [
    "__Question 3:__\n",
    "Write a program to swap two numbers in Python with the help of a temporary variable."
   ]
  },
  {
   "cell_type": "code",
   "execution_count": 10,
   "metadata": {},
   "outputs": [
    {
     "name": "stdout",
     "output_type": "stream",
     "text": [
      "Enter first number3\n",
      "Enter second number4\n",
      "4 3\n"
     ]
    }
   ],
   "source": [
    "num1 = int(input('Enter first number'))\n",
    "num2 = int(input('Enter second number'))\n",
    "temp = num2\n",
    "num2 = num1\n",
    "num1 = temp\n",
    "print(num1, num2)\n"
   ]
  },
  {
   "cell_type": "markdown",
   "metadata": {},
   "source": [
    "__Question 4:__\n",
    "Write a program to swap two numbers in Python without using a temporary variable."
   ]
  },
  {
   "cell_type": "code",
   "execution_count": 11,
   "metadata": {},
   "outputs": [
    {
     "name": "stdout",
     "output_type": "stream",
     "text": [
      "Enter first number6\n",
      "Enter second number5\n",
      "5 6\n"
     ]
    }
   ],
   "source": [
    "no1 = int(input('Enter first number'))\n",
    "no2 = int(input('Enter second number'))\n",
    "no1,no2 = no2,no1\n",
    "print(no1, no2)"
   ]
  },
  {
   "cell_type": "markdown",
   "metadata": {},
   "source": [
    "__Question 5:__\n",
    "Write a program to convert fahrenheit to kelvin and celsius both."
   ]
  },
  {
   "cell_type": "code",
   "execution_count": 13,
   "metadata": {},
   "outputs": [
    {
     "name": "stdout",
     "output_type": "stream",
     "text": [
      "Enter temperature in Fahrenheit100\n",
      "Fahrenheit =  100 \n",
      " Celsius =  37.77777777777778 \n",
      " Kelvin =  310.92777777777775\n"
     ]
    }
   ],
   "source": [
    "fahrenheit = int(input('Enter temperature in Fahrenheit'))\n",
    "celsius = (fahrenheit-32)*5/9\n",
    "kelvin = celsius + 273.15\n",
    "print('Fahrenheit = ', fahrenheit, '\\n', 'Celsius = ', celsius, '\\n', 'Kelvin = ', kelvin)"
   ]
  },
  {
   "cell_type": "markdown",
   "metadata": {},
   "source": [
    "__Question 6:__\n",
    "Write a program to demonstrate all the available data types in Python. Hint: Use type() function."
   ]
  },
  {
   "cell_type": "code",
   "execution_count": 14,
   "metadata": {},
   "outputs": [
    {
     "name": "stdout",
     "output_type": "stream",
     "text": [
      "25 <class 'int'> \n",
      " 25.5 <class 'float'> \n",
      " ['1', '2', '3'] <class 'list'> \n",
      " ('4', '5', '6') <class 'tuple'> \n",
      " {'8', '7', '9'} <class 'set'> \n",
      " range(0, 10) <class 'range'> \n",
      " (1+2j) <class 'complex'> \n",
      " True <class 'bool'>\n"
     ]
    }
   ],
   "source": [
    "a = 25\n",
    "b = 25.5\n",
    "c = ['1', '2', '3']\n",
    "d = ('4', '5', '6')\n",
    "e = {'7', '8', '9'}\n",
    "f = range(10)\n",
    "g = 1+2j\n",
    "h = True\n",
    "\n",
    "print(a, type(a), '\\n', b, type(b), '\\n', c, type(c), '\\n', d, type(d), '\\n', e, type(e), '\\n', f, type(f), '\\n',\n",
    "     g, type(g), '\\n', h, type(h))"
   ]
  },
  {
   "cell_type": "markdown",
   "metadata": {},
   "source": [
    "__Question 7:__\n",
    "Create a Markdown cell in jupyter and list the steps discussed in the session by Dr. Darshan Ingle sir to create Github profile and upload Githubs Assignment link."
   ]
  },
  {
   "cell_type": "markdown",
   "metadata": {},
   "source": [
    "Step 1: Create a GitHub repository named LetsUpgrade-AI-ML\n",
    "\n",
    "Step 2: Upload Day-wise assingment folder in that repository \n",
    "\n",
    "Step 3: Copy link of day folder\n",
    "\n",
    "Step 4: Paste that link and registered email-id in google form provided by LU team."
   ]
  },
  {
   "cell_type": "code",
   "execution_count": null,
   "metadata": {},
   "outputs": [],
   "source": []
  }
 ],
 "metadata": {
  "kernelspec": {
   "display_name": "Python 3",
   "language": "python",
   "name": "python3"
  },
  "language_info": {
   "codemirror_mode": {
    "name": "ipython",
    "version": 3
   },
   "file_extension": ".py",
   "mimetype": "text/x-python",
   "name": "python",
   "nbconvert_exporter": "python",
   "pygments_lexer": "ipython3",
   "version": "3.7.6"
  }
 },
 "nbformat": 4,
 "nbformat_minor": 4
}
