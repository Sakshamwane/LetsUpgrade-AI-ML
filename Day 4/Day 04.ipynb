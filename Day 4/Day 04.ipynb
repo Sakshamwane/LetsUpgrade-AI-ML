{
 "cells": [
  {
   "cell_type": "markdown",
   "metadata": {},
   "source": [
    "# Assignment Day 4 | 9th July 2020"
   ]
  },
  {
   "cell_type": "markdown",
   "metadata": {},
   "source": [
    "__Question 1 :__\n",
    "Research on whether addition, subtraction, multiplication, division, floor division and modulo operations be performed on complex numbers. Based on your study, implement a Python program to demonstrate these operations."
   ]
  },
  {
   "cell_type": "markdown",
   "metadata": {},
   "source": [
    "__Answer :__ Addition, subtraction, multiplication, division, and modulo can be performed on complex number in python. Floor division cannot be performed on complex number."
   ]
  },
  {
   "cell_type": "code",
   "execution_count": 28,
   "metadata": {},
   "outputs": [
    {
     "name": "stdout",
     "output_type": "stream",
     "text": [
      "Enter first complex number1+2j\n",
      "Enter second complex number2+4j\n",
      "Addition of complex numbers is  (3+6j)\n",
      "Substraction of complex numbers is  (-1-2j)\n",
      "Multiplication of complex numbers is  (-6+8j)\n",
      "Division of complex number is  (0.5+0j)\n",
      "Enter a complex number1+6j\n",
      "Modulo of complex number is  6.082762530298219\n"
     ]
    }
   ],
   "source": [
    "a = complex(input('Enter first complex number'))\n",
    "b = complex(input('Enter second complex number'))\n",
    "\n",
    "addition = a + b\n",
    "print('Addition of complex numbers is ', addition)\n",
    "\n",
    "substraction = a - b\n",
    "print('Substraction of complex numbers is ', substraction)\n",
    "\n",
    "multiplication = a * b\n",
    "print('Multiplication of complex numbers is ', multiplication)\n",
    "\n",
    "division = a/b\n",
    "print('Division of complex number is ', division)\n",
    "\n",
    "#Floor division is not possible with complex number\n",
    "\n",
    "\n",
    "#To find modulo of complex number I am using cmath library. formula : sqrt((real-part)**2 + (imaginary-part)**2)\n",
    "\n",
    "c = complex(input('Enter a complex number'))\n",
    "\n",
    "import cmath\n",
    "\n",
    "d=cmath.sqrt((c.real)**2+(c.imag)**2)\n",
    "print('Modulo of complex number is ', d.real)\n"
   ]
  },
  {
   "cell_type": "markdown",
   "metadata": {},
   "source": [
    "__Question 2 :__\n",
    "Research on range() functions and its parameters. Create a markdown cell and write in your own words (no copy-paste from google please) what you understand about it. Implement a small program of your choice on the same.\n"
   ]
  },
  {
   "cell_type": "markdown",
   "metadata": {},
   "source": [
    "__Answer:__ range() function is a built-in fuction in python, used when we need to perform an action for a specific number of times. range() is often used to iterate over python sequence datatypes like list, tuple, etc using while or for loop.\n",
    "\n",
    "range() function takes three parameters: range(start,stop,step)"
   ]
  },
  {
   "cell_type": "code",
   "execution_count": 31,
   "metadata": {},
   "outputs": [
    {
     "name": "stdout",
     "output_type": "stream",
     "text": [
      "Enter a number2\n",
      "2 * 0 = 0\n",
      "2 * 1 = 2\n",
      "2 * 2 = 4\n",
      "2 * 3 = 6\n",
      "2 * 4 = 8\n",
      "2 * 5 = 10\n",
      "2 * 6 = 12\n",
      "2 * 7 = 14\n",
      "2 * 8 = 16\n",
      "2 * 9 = 18\n",
      "2 * 10 = 20\n"
     ]
    }
   ],
   "source": [
    "x = int(input('Enter a number'))\n",
    "\n",
    "for i in range(0,11):\n",
    "    print(x, '*', i, '=', x*i)\n",
    "    "
   ]
  },
  {
   "cell_type": "markdown",
   "metadata": {},
   "source": [
    "__Question 3:__\n",
    "Consider two numbers. Perform their subtraction and if the result of subtraction is greater than 25, print their multiplication result else print their division result."
   ]
  },
  {
   "cell_type": "markdown",
   "metadata": {},
   "source": [
    "__Answer:__"
   ]
  },
  {
   "cell_type": "code",
   "execution_count": 33,
   "metadata": {},
   "outputs": [
    {
     "name": "stdout",
     "output_type": "stream",
     "text": [
      "Enter first number120\n",
      "Enter second number94\n",
      "Multiplication is  11280\n"
     ]
    }
   ],
   "source": [
    "no1 = int(input('Enter first number'))\n",
    "no2 = int(input('Enter second number'))\n",
    "\n",
    "subtraction = no1 - no2\n",
    "\n",
    "if subtraction>25:\n",
    "    print('Multiplication is ', no1*no2)\n",
    "    \n",
    "else:\n",
    "    print('Division is ', no1/no2)"
   ]
  },
  {
   "cell_type": "markdown",
   "metadata": {},
   "source": [
    "__Question 4:__\n",
    "Consider a list of 10 elements of integer values. If the number in the list is divisible by 2, print the result as \"square of that number minus 2\"."
   ]
  },
  {
   "cell_type": "markdown",
   "metadata": {},
   "source": [
    "__Answer:__"
   ]
  },
  {
   "cell_type": "code",
   "execution_count": 42,
   "metadata": {},
   "outputs": [
    {
     "name": "stdout",
     "output_type": "stream",
     "text": [
      "14\n",
      "62\n",
      "14\n",
      "34\n"
     ]
    }
   ],
   "source": [
    "lst = ['1', '3', '4', '5', '8', '4', '9', '7', '3', '6']\n",
    "\n",
    "for i in range(0,10):\n",
    "    n = int(lst[i])\n",
    "    if (n%2==0):\n",
    "        print((n**2)-2)"
   ]
  },
  {
   "cell_type": "markdown",
   "metadata": {},
   "source": [
    "__Question 5:__\n",
    "Consider a list of 10 elements. Print all the elements in the list which are greater than 7 when that number is divided 2."
   ]
  },
  {
   "cell_type": "markdown",
   "metadata": {},
   "source": [
    "__Answer:__"
   ]
  },
  {
   "cell_type": "code",
   "execution_count": 60,
   "metadata": {},
   "outputs": [
    {
     "name": "stdout",
     "output_type": "stream",
     "text": [
      "44\n",
      "25\n",
      "28\n",
      "18\n"
     ]
    }
   ],
   "source": [
    "lst1 = ['12', '13', '44', '25', '28', '4', '9', '7', '18', '6']\n",
    "\n",
    "for i in range(0,10):\n",
    "    m = int(lst1[i])\n",
    "    if (m//2) > 7:\n",
    "        print(m)"
   ]
  }
 ],
 "metadata": {
  "kernelspec": {
   "display_name": "Python 3",
   "language": "python",
   "name": "python3"
  },
  "language_info": {
   "codemirror_mode": {
    "name": "ipython",
    "version": 3
   },
   "file_extension": ".py",
   "mimetype": "text/x-python",
   "name": "python",
   "nbconvert_exporter": "python",
   "pygments_lexer": "ipython3",
   "version": "3.7.6"
  }
 },
 "nbformat": 4,
 "nbformat_minor": 4
}
